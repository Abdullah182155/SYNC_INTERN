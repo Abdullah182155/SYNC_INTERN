{
  "cells": [
    {
      "cell_type": "markdown",
      "id": "3380dbb7",
      "metadata": {
        "id": "3380dbb7"
      },
      "source": [
        "# my frist project in Machine learning internship SYNC INTERN'S"
      ]
    },
    {
      "cell_type": "code",
      "execution_count": 2,
      "id": "1214928d",
      "metadata": {
        "id": "1214928d"
      },
      "outputs": [],
      "source": []
    },
    {
      "cell_type": "code",
      "source": [
        "#import Libraries\n",
        "import pandas as pd\n",
        "import tensorflow as tf\n",
        "import numpy as np"
      ],
      "metadata": {
        "id": "RERkz_ALoQHo"
      },
      "id": "RERkz_ALoQHo",
      "execution_count": null,
      "outputs": []
    },
    {
      "cell_type": "code",
      "execution_count": 3,
      "id": "c0659681",
      "metadata": {
        "id": "c0659681"
      },
      "outputs": [],
      "source": [
        "dataset = {\n",
        "  \"What is your name?\": \"my name is abdullah\",\n",
        "  \"how old are you? \": \"21\",\n",
        "  \"what are you doing?\": \"I am student\",\n",
        "  \"what do you study?\": \"I am studying artificial intelligence\",\n",
        "  \"What university do you study at?\": \"Banha university\",\n",
        "  \"What is the expected graduation year?\": \"2024\",\n",
        "  \"What skills do you have?\" : \"C++ and Python programming languages, Ability to solve programming problems,Ability to analyze data and apply artificial intelligence,techniques on it Using data analysis libraries such as Pandas and Numpy and Matplotlibdata analysis using Python, Exel, and Power BIMachine Learning techniques such as linearregression, logistic regression, decision trees and KNNGood knowledge of neural networks , deep learning and NLP\",\n",
        "  \"What do you do in your free time?\": \"I play football, watch football matches, read books, and learn new skills\"\n",
        "\n",
        "\n",
        "\n",
        "\n",
        "}"
      ]
    },
    {
      "cell_type": "code",
      "execution_count": 4,
      "id": "c4724f6b",
      "metadata": {
        "id": "c4724f6b"
      },
      "outputs": [],
      "source": [
        "questions = list(dataset.keys())\n",
        "answers = list(dataset.values())\n",
        "tokenizer = tf.keras.preprocessing.text.Tokenizer()\n",
        "tokenizer.fit_on_texts(questions)\n",
        "question_sequences = tokenizer.texts_to_sequences(questions)\n",
        "max_length = max([len(x) for x in question_sequences])\n",
        "padded_questions = tf.keras.preprocessing.sequence.pad_sequences(question_sequences, maxlen=max_length, padding='post')\n"
      ]
    },
    {
      "cell_type": "code",
      "execution_count": 5,
      "id": "a8988db5",
      "metadata": {
        "colab": {
          "base_uri": "https://localhost:8080/"
        },
        "id": "a8988db5",
        "outputId": "c3bd857c-75b3-4684-ef34-66a21e76ca05"
      },
      "outputs": [
        {
          "output_type": "stream",
          "name": "stdout",
          "text": [
            "Model: \"sequential\"\n",
            "_________________________________________________________________\n",
            " Layer (type)                Output Shape              Param #   \n",
            "=================================================================\n",
            " embedding (Embedding)       (None, 8, 32)             736       \n",
            "                                                                 \n",
            " global_average_pooling1d (  (None, 32)                0         \n",
            " GlobalAveragePooling1D)                                         \n",
            "                                                                 \n",
            " dense (Dense)               (None, 64)                2112      \n",
            "                                                                 \n",
            " dense_1 (Dense)             (None, 8)                 520       \n",
            "                                                                 \n",
            "=================================================================\n",
            "Total params: 3368 (13.16 KB)\n",
            "Trainable params: 3368 (13.16 KB)\n",
            "Non-trainable params: 0 (0.00 Byte)\n",
            "_________________________________________________________________\n"
          ]
        }
      ],
      "source": [
        "# Build the machine learning model\n",
        "model = tf.keras.Sequential([\n",
        "  tf.keras.layers.Embedding(input_dim=len(tokenizer.word_index)+1, output_dim=32, input_length=max_length),\n",
        "  tf.keras.layers.GlobalAveragePooling1D(),\n",
        "  tf.keras.layers.Dense(64, activation='relu'),\n",
        "  tf.keras.layers.Dense(len(answers), activation='softmax')\n",
        "])\n",
        "\n",
        "\n",
        "#model compile\n",
        "model.compile(loss='sparse_categorical_crossentropy', optimizer='adam', metrics=['accuracy'])\n",
        "\n",
        "model.summary()\n",
        "\n"
      ]
    },
    {
      "cell_type": "code",
      "execution_count": 6,
      "id": "8e758eb4",
      "metadata": {
        "colab": {
          "base_uri": "https://localhost:8080/"
        },
        "id": "8e758eb4",
        "outputId": "8b3d6890-2cb4-4e87-e683-99b88040223f"
      },
      "outputs": [
        {
          "output_type": "stream",
          "name": "stdout",
          "text": [
            "Epoch 1/30\n",
            "1/1 [==============================] - 6s 6s/step - loss: 2.0817 - accuracy: 0.0000e+00\n",
            "Epoch 2/30\n",
            "1/1 [==============================] - 0s 10ms/step - loss: 2.0783 - accuracy: 0.0000e+00\n",
            "Epoch 3/30\n",
            "1/1 [==============================] - 0s 11ms/step - loss: 2.0753 - accuracy: 0.2500\n",
            "Epoch 4/30\n",
            "1/1 [==============================] - 0s 12ms/step - loss: 2.0729 - accuracy: 0.2500\n",
            "Epoch 5/30\n",
            "1/1 [==============================] - 0s 9ms/step - loss: 2.0706 - accuracy: 0.2500\n",
            "Epoch 6/30\n",
            "1/1 [==============================] - 0s 10ms/step - loss: 2.0687 - accuracy: 0.2500\n",
            "Epoch 7/30\n",
            "1/1 [==============================] - 0s 10ms/step - loss: 2.0669 - accuracy: 0.3750\n",
            "Epoch 8/30\n",
            "1/1 [==============================] - 0s 10ms/step - loss: 2.0651 - accuracy: 0.3750\n",
            "Epoch 9/30\n",
            "1/1 [==============================] - 0s 11ms/step - loss: 2.0631 - accuracy: 0.5000\n",
            "Epoch 10/30\n",
            "1/1 [==============================] - 0s 10ms/step - loss: 2.0612 - accuracy: 0.5000\n",
            "Epoch 11/30\n",
            "1/1 [==============================] - 0s 9ms/step - loss: 2.0592 - accuracy: 0.5000\n",
            "Epoch 12/30\n",
            "1/1 [==============================] - 0s 12ms/step - loss: 2.0572 - accuracy: 0.5000\n",
            "Epoch 13/30\n",
            "1/1 [==============================] - 0s 10ms/step - loss: 2.0551 - accuracy: 0.5000\n",
            "Epoch 14/30\n",
            "1/1 [==============================] - 0s 11ms/step - loss: 2.0529 - accuracy: 0.5000\n",
            "Epoch 15/30\n",
            "1/1 [==============================] - 0s 12ms/step - loss: 2.0507 - accuracy: 0.6250\n",
            "Epoch 16/30\n",
            "1/1 [==============================] - 0s 12ms/step - loss: 2.0483 - accuracy: 0.6250\n",
            "Epoch 17/30\n",
            "1/1 [==============================] - 0s 11ms/step - loss: 2.0458 - accuracy: 0.6250\n",
            "Epoch 18/30\n",
            "1/1 [==============================] - 0s 19ms/step - loss: 2.0433 - accuracy: 0.6250\n",
            "Epoch 19/30\n",
            "1/1 [==============================] - 0s 12ms/step - loss: 2.0406 - accuracy: 0.6250\n",
            "Epoch 20/30\n",
            "1/1 [==============================] - 0s 12ms/step - loss: 2.0378 - accuracy: 0.6250\n",
            "Epoch 21/30\n",
            "1/1 [==============================] - 0s 10ms/step - loss: 2.0350 - accuracy: 0.6250\n",
            "Epoch 22/30\n",
            "1/1 [==============================] - 0s 10ms/step - loss: 2.0321 - accuracy: 0.6250\n",
            "Epoch 23/30\n",
            "1/1 [==============================] - 0s 11ms/step - loss: 2.0291 - accuracy: 0.6250\n",
            "Epoch 24/30\n",
            "1/1 [==============================] - 0s 11ms/step - loss: 2.0261 - accuracy: 0.6250\n",
            "Epoch 25/30\n",
            "1/1 [==============================] - 0s 10ms/step - loss: 2.0229 - accuracy: 0.6250\n",
            "Epoch 26/30\n",
            "1/1 [==============================] - 0s 11ms/step - loss: 2.0197 - accuracy: 0.6250\n",
            "Epoch 27/30\n",
            "1/1 [==============================] - 0s 11ms/step - loss: 2.0163 - accuracy: 0.7500\n",
            "Epoch 28/30\n",
            "1/1 [==============================] - 0s 12ms/step - loss: 2.0128 - accuracy: 0.7500\n",
            "Epoch 29/30\n",
            "1/1 [==============================] - 0s 12ms/step - loss: 2.0092 - accuracy: 0.8750\n",
            "Epoch 30/30\n",
            "1/1 [==============================] - 0s 11ms/step - loss: 2.0054 - accuracy: 0.8750\n"
          ]
        },
        {
          "output_type": "execute_result",
          "data": {
            "text/plain": [
              "<keras.src.callbacks.History at 0x7a3be6345fc0>"
            ]
          },
          "metadata": {},
          "execution_count": 6
        }
      ],
      "source": [
        "# Train the model\n",
        "model.fit(padded_questions, np.array(range(len(questions))), epochs=30)"
      ]
    },
    {
      "cell_type": "code",
      "execution_count": 8,
      "id": "e6a10616",
      "metadata": {
        "colab": {
          "base_uri": "https://localhost:8080/",
          "height": 369
        },
        "id": "e6a10616",
        "outputId": "3e94cdb5-50c9-4e88-f786-2fff79eea3ce"
      },
      "outputs": [
        {
          "output_type": "error",
          "ename": "KeyboardInterrupt",
          "evalue": "ignored",
          "traceback": [
            "\u001b[0;31m---------------------------------------------------------------------------\u001b[0m",
            "\u001b[0;31mKeyboardInterrupt\u001b[0m                         Traceback (most recent call last)",
            "\u001b[0;32m<ipython-input-8-11fb1bdc1c97>\u001b[0m in \u001b[0;36m<cell line: 15>\u001b[0;34m()\u001b[0m\n\u001b[1;32m     13\u001b[0m \u001b[0;34m\u001b[0m\u001b[0m\n\u001b[1;32m     14\u001b[0m \u001b[0;31m# Run the chatbot\u001b[0m\u001b[0;34m\u001b[0m\u001b[0;34m\u001b[0m\u001b[0m\n\u001b[0;32m---> 15\u001b[0;31m \u001b[0mchatbot\u001b[0m\u001b[0;34m(\u001b[0m\u001b[0;34m)\u001b[0m\u001b[0;34m\u001b[0m\u001b[0;34m\u001b[0m\u001b[0m\n\u001b[0m",
            "\u001b[0;32m<ipython-input-8-11fb1bdc1c97>\u001b[0m in \u001b[0;36mchatbot\u001b[0;34m()\u001b[0m\n\u001b[1;32m      2\u001b[0m \u001b[0;32mdef\u001b[0m \u001b[0mchatbot\u001b[0m\u001b[0;34m(\u001b[0m\u001b[0;34m)\u001b[0m\u001b[0;34m:\u001b[0m\u001b[0;34m\u001b[0m\u001b[0;34m\u001b[0m\u001b[0m\n\u001b[1;32m      3\u001b[0m     \u001b[0;32mwhile\u001b[0m \u001b[0;32mTrue\u001b[0m\u001b[0;34m:\u001b[0m\u001b[0;34m\u001b[0m\u001b[0;34m\u001b[0m\u001b[0m\n\u001b[0;32m----> 4\u001b[0;31m         \u001b[0muser_input\u001b[0m \u001b[0;34m=\u001b[0m \u001b[0minput\u001b[0m\u001b[0;34m(\u001b[0m\u001b[0;34m\"ask me \"\u001b[0m\u001b[0;34m)\u001b[0m\u001b[0;34m\u001b[0m\u001b[0;34m\u001b[0m\u001b[0m\n\u001b[0m\u001b[1;32m      5\u001b[0m         \u001b[0;32mif\u001b[0m \u001b[0muser_input\u001b[0m\u001b[0;34m==\u001b[0m\u001b[0;34m'thanks'\u001b[0m\u001b[0;34m:\u001b[0m\u001b[0;34m\u001b[0m\u001b[0;34m\u001b[0m\u001b[0m\n\u001b[1;32m      6\u001b[0m             \u001b[0mprint\u001b[0m \u001b[0;34m(\u001b[0m\u001b[0;34m'your welcome'\u001b[0m\u001b[0;34m)\u001b[0m\u001b[0;34m\u001b[0m\u001b[0;34m\u001b[0m\u001b[0m\n",
            "\u001b[0;32m/usr/local/lib/python3.10/dist-packages/ipykernel/kernelbase.py\u001b[0m in \u001b[0;36mraw_input\u001b[0;34m(self, prompt)\u001b[0m\n\u001b[1;32m    849\u001b[0m                 \u001b[0;34m\"raw_input was called, but this frontend does not support input requests.\"\u001b[0m\u001b[0;34m\u001b[0m\u001b[0;34m\u001b[0m\u001b[0m\n\u001b[1;32m    850\u001b[0m             )\n\u001b[0;32m--> 851\u001b[0;31m         return self._input_request(str(prompt),\n\u001b[0m\u001b[1;32m    852\u001b[0m             \u001b[0mself\u001b[0m\u001b[0;34m.\u001b[0m\u001b[0m_parent_ident\u001b[0m\u001b[0;34m,\u001b[0m\u001b[0;34m\u001b[0m\u001b[0;34m\u001b[0m\u001b[0m\n\u001b[1;32m    853\u001b[0m             \u001b[0mself\u001b[0m\u001b[0;34m.\u001b[0m\u001b[0m_parent_header\u001b[0m\u001b[0;34m,\u001b[0m\u001b[0;34m\u001b[0m\u001b[0;34m\u001b[0m\u001b[0m\n",
            "\u001b[0;32m/usr/local/lib/python3.10/dist-packages/ipykernel/kernelbase.py\u001b[0m in \u001b[0;36m_input_request\u001b[0;34m(self, prompt, ident, parent, password)\u001b[0m\n\u001b[1;32m    893\u001b[0m             \u001b[0;32mexcept\u001b[0m \u001b[0mKeyboardInterrupt\u001b[0m\u001b[0;34m:\u001b[0m\u001b[0;34m\u001b[0m\u001b[0;34m\u001b[0m\u001b[0m\n\u001b[1;32m    894\u001b[0m                 \u001b[0;31m# re-raise KeyboardInterrupt, to truncate traceback\u001b[0m\u001b[0;34m\u001b[0m\u001b[0;34m\u001b[0m\u001b[0m\n\u001b[0;32m--> 895\u001b[0;31m                 \u001b[0;32mraise\u001b[0m \u001b[0mKeyboardInterrupt\u001b[0m\u001b[0;34m(\u001b[0m\u001b[0;34m\"Interrupted by user\"\u001b[0m\u001b[0;34m)\u001b[0m \u001b[0;32mfrom\u001b[0m \u001b[0;32mNone\u001b[0m\u001b[0;34m\u001b[0m\u001b[0;34m\u001b[0m\u001b[0m\n\u001b[0m\u001b[1;32m    896\u001b[0m             \u001b[0;32mexcept\u001b[0m \u001b[0mException\u001b[0m \u001b[0;32mas\u001b[0m \u001b[0me\u001b[0m\u001b[0;34m:\u001b[0m\u001b[0;34m\u001b[0m\u001b[0;34m\u001b[0m\u001b[0m\n\u001b[1;32m    897\u001b[0m                 \u001b[0mself\u001b[0m\u001b[0;34m.\u001b[0m\u001b[0mlog\u001b[0m\u001b[0;34m.\u001b[0m\u001b[0mwarning\u001b[0m\u001b[0;34m(\u001b[0m\u001b[0;34m\"Invalid Message:\"\u001b[0m\u001b[0;34m,\u001b[0m \u001b[0mexc_info\u001b[0m\u001b[0;34m=\u001b[0m\u001b[0;32mTrue\u001b[0m\u001b[0;34m)\u001b[0m\u001b[0;34m\u001b[0m\u001b[0;34m\u001b[0m\u001b[0m\n",
            "\u001b[0;31mKeyboardInterrupt\u001b[0m: Interrupted by user"
          ]
        }
      ],
      "source": [
        "# Define the chatbot interface\n",
        "def chatbot():\n",
        "    while True:\n",
        "        user_input = input(\"ask me \")\n",
        "        if user_input=='thanks':\n",
        "            print ('your welcome')\n",
        "            break\n",
        "        else:\n",
        "            user_sequence = tokenizer.texts_to_sequences([user_input])\n",
        "            padded_user_sequence = tf.keras.preprocessing.sequence.pad_sequences(user_sequence, maxlen=max_length, padding='post')\n",
        "            prediction = np.argmax(model.predict(padded_user_sequence))\n",
        "            print(answers[prediction])\n",
        "\n",
        "# Run the chatbot\n",
        "chatbot()"
      ]
    },
    {
      "cell_type": "code",
      "source": [],
      "metadata": {
        "id": "CEznvpK0aWYc"
      },
      "id": "CEznvpK0aWYc",
      "execution_count": null,
      "outputs": []
    }
  ],
  "metadata": {
    "kernelspec": {
      "display_name": "Python 3",
      "name": "python3"
    },
    "language_info": {
      "codemirror_mode": {
        "name": "ipython",
        "version": 3
      },
      "file_extension": ".py",
      "mimetype": "text/x-python",
      "name": "python",
      "nbconvert_exporter": "python",
      "pygments_lexer": "ipython3",
      "version": "3.9.16"
    },
    "colab": {
      "provenance": [],
      "gpuType": "T4"
    },
    "accelerator": "GPU"
  },
  "nbformat": 4,
  "nbformat_minor": 5
}