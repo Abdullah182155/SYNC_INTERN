{
  "cells": [
    {
      "cell_type": "markdown",
      "id": "3380dbb7",
      "metadata": {
        "id": "3380dbb7"
      },
      "source": [
        "# my frist project in Machine learning internship SYNC INTERN'S"
      ]
    },
    {
      "cell_type": "code",
      "execution_count": 2,
      "id": "1214928d",
      "metadata": {
        "id": "1214928d"
      },
      "outputs": [],
      "source": []
    },
    {
      "cell_type": "code",
      "source": [
        "#import Libraries\n",
        "import pandas as pd\n",
        "import tensorflow as tf\n",
        "import numpy as np"
      ],
      "metadata": {
        "id": "RERkz_ALoQHo"
      },
      "id": "RERkz_ALoQHo",
      "execution_count": 1,
      "outputs": []
    },
    {
      "cell_type": "code",
      "execution_count": 2,
      "id": "c0659681",
      "metadata": {
        "id": "c0659681"
      },
      "outputs": [],
      "source": [
        "dataset = {\n",
        "  \"What is your name?\": \"my name is abdullah\",\n",
        "  \"how old are you? \": \"21\",\n",
        "  \"what are you doing?\": \"I am student\",\n",
        "  \"what do you study?\": \"I am studying artificial intelligence\",\n",
        "  \"What university do you study at?\": \"Banha university\",\n",
        "  \"What is the expected graduation year?\": \"2024\",\n",
        "  \"What skills do you have?\" : \"C++ and Python programming languages, Ability to solve programming problems,Ability to analyze data and apply artificial intelligence,techniques on it Using data analysis libraries such as Pandas and Numpy and Matplotlibdata analysis using Python, Exel, and Power BIMachine Learning techniques such as linearregression, logistic regression, decision trees and KNNGood knowledge of neural networks , deep learning and NLP\",\n",
        "  \"What do you do in your free time?\": \"I play football, watch football matches, read books, and learn new skills\"\n",
        "\n",
        "\n",
        "\n",
        "\n",
        "}"
      ]
    },
    {
      "cell_type": "code",
      "execution_count": 3,
      "id": "c4724f6b",
      "metadata": {
        "id": "c4724f6b"
      },
      "outputs": [],
      "source": [
        "questions = list(dataset.keys())\n",
        "answers = list(dataset.values())\n",
        "tokenizer = tf.keras.preprocessing.text.Tokenizer()\n",
        "tokenizer.fit_on_texts(questions)\n",
        "question_sequences = tokenizer.texts_to_sequences(questions)\n",
        "max_length = max([len(x) for x in question_sequences])\n",
        "padded_questions = tf.keras.preprocessing.sequence.pad_sequences(question_sequences, maxlen=max_length, padding='post')\n"
      ]
    },
    {
      "cell_type": "code",
      "execution_count": 4,
      "id": "a8988db5",
      "metadata": {
        "colab": {
          "base_uri": "https://localhost:8080/"
        },
        "id": "a8988db5",
        "outputId": "751712c7-d7a2-40a1-c876-cd34a134ef77"
      },
      "outputs": [
        {
          "output_type": "stream",
          "name": "stdout",
          "text": [
            "Model: \"sequential\"\n",
            "_________________________________________________________________\n",
            " Layer (type)                Output Shape              Param #   \n",
            "=================================================================\n",
            " embedding (Embedding)       (None, 8, 32)             736       \n",
            "                                                                 \n",
            " global_average_pooling1d (  (None, 32)                0         \n",
            " GlobalAveragePooling1D)                                         \n",
            "                                                                 \n",
            " dense (Dense)               (None, 64)                2112      \n",
            "                                                                 \n",
            " dense_1 (Dense)             (None, 8)                 520       \n",
            "                                                                 \n",
            "=================================================================\n",
            "Total params: 3368 (13.16 KB)\n",
            "Trainable params: 3368 (13.16 KB)\n",
            "Non-trainable params: 0 (0.00 Byte)\n",
            "_________________________________________________________________\n"
          ]
        }
      ],
      "source": [
        "# Build the machine learning model\n",
        "model = tf.keras.Sequential([\n",
        "  tf.keras.layers.Embedding(input_dim=len(tokenizer.word_index)+1, output_dim=32, input_length=max_length),\n",
        "  tf.keras.layers.GlobalAveragePooling1D(),\n",
        "  tf.keras.layers.Dense(64, activation='relu'),\n",
        "  tf.keras.layers.Dense(len(answers), activation='softmax')\n",
        "])\n",
        "\n",
        "\n",
        "#model compile\n",
        "model.compile(loss='sparse_categorical_crossentropy', optimizer='adam', metrics=['accuracy'])\n",
        "\n",
        "model.summary()\n",
        "\n"
      ]
    },
    {
      "cell_type": "code",
      "execution_count": 5,
      "id": "8e758eb4",
      "metadata": {
        "colab": {
          "base_uri": "https://localhost:8080/"
        },
        "id": "8e758eb4",
        "outputId": "57592c5e-65b7-4ba3-f9fc-68f9ee316638"
      },
      "outputs": [
        {
          "output_type": "stream",
          "name": "stdout",
          "text": [
            "Epoch 1/30\n",
            "1/1 [==============================] - 2s 2s/step - loss: 2.0809 - accuracy: 0.1250\n",
            "Epoch 2/30\n",
            "1/1 [==============================] - 0s 11ms/step - loss: 2.0778 - accuracy: 0.1250\n",
            "Epoch 3/30\n",
            "1/1 [==============================] - 0s 9ms/step - loss: 2.0749 - accuracy: 0.3750\n",
            "Epoch 4/30\n",
            "1/1 [==============================] - 0s 12ms/step - loss: 2.0723 - accuracy: 0.5000\n",
            "Epoch 5/30\n",
            "1/1 [==============================] - 0s 11ms/step - loss: 2.0699 - accuracy: 0.6250\n",
            "Epoch 6/30\n",
            "1/1 [==============================] - 0s 10ms/step - loss: 2.0676 - accuracy: 0.6250\n",
            "Epoch 7/30\n",
            "1/1 [==============================] - 0s 10ms/step - loss: 2.0653 - accuracy: 0.7500\n",
            "Epoch 8/30\n",
            "1/1 [==============================] - 0s 10ms/step - loss: 2.0632 - accuracy: 0.7500\n",
            "Epoch 9/30\n",
            "1/1 [==============================] - 0s 10ms/step - loss: 2.0612 - accuracy: 0.7500\n",
            "Epoch 10/30\n",
            "1/1 [==============================] - 0s 10ms/step - loss: 2.0591 - accuracy: 0.7500\n",
            "Epoch 11/30\n",
            "1/1 [==============================] - 0s 11ms/step - loss: 2.0570 - accuracy: 0.7500\n",
            "Epoch 12/30\n",
            "1/1 [==============================] - 0s 11ms/step - loss: 2.0548 - accuracy: 0.7500\n",
            "Epoch 13/30\n",
            "1/1 [==============================] - 0s 11ms/step - loss: 2.0525 - accuracy: 0.7500\n",
            "Epoch 14/30\n",
            "1/1 [==============================] - 0s 11ms/step - loss: 2.0502 - accuracy: 0.7500\n",
            "Epoch 15/30\n",
            "1/1 [==============================] - 0s 12ms/step - loss: 2.0477 - accuracy: 0.7500\n",
            "Epoch 16/30\n",
            "1/1 [==============================] - 0s 11ms/step - loss: 2.0452 - accuracy: 0.7500\n",
            "Epoch 17/30\n",
            "1/1 [==============================] - 0s 13ms/step - loss: 2.0426 - accuracy: 0.7500\n",
            "Epoch 18/30\n",
            "1/1 [==============================] - 0s 11ms/step - loss: 2.0399 - accuracy: 0.8750\n",
            "Epoch 19/30\n",
            "1/1 [==============================] - 0s 13ms/step - loss: 2.0372 - accuracy: 0.8750\n",
            "Epoch 20/30\n",
            "1/1 [==============================] - 0s 11ms/step - loss: 2.0343 - accuracy: 0.8750\n",
            "Epoch 21/30\n",
            "1/1 [==============================] - 0s 10ms/step - loss: 2.0313 - accuracy: 0.8750\n",
            "Epoch 22/30\n",
            "1/1 [==============================] - 0s 10ms/step - loss: 2.0281 - accuracy: 0.8750\n",
            "Epoch 23/30\n",
            "1/1 [==============================] - 0s 10ms/step - loss: 2.0249 - accuracy: 0.8750\n",
            "Epoch 24/30\n",
            "1/1 [==============================] - 0s 10ms/step - loss: 2.0215 - accuracy: 0.8750\n",
            "Epoch 25/30\n",
            "1/1 [==============================] - 0s 10ms/step - loss: 2.0181 - accuracy: 0.8750\n",
            "Epoch 26/30\n",
            "1/1 [==============================] - 0s 16ms/step - loss: 2.0145 - accuracy: 0.8750\n",
            "Epoch 27/30\n",
            "1/1 [==============================] - 0s 11ms/step - loss: 2.0108 - accuracy: 0.8750\n",
            "Epoch 28/30\n",
            "1/1 [==============================] - 0s 10ms/step - loss: 2.0069 - accuracy: 0.8750\n",
            "Epoch 29/30\n",
            "1/1 [==============================] - 0s 12ms/step - loss: 2.0029 - accuracy: 0.8750\n",
            "Epoch 30/30\n",
            "1/1 [==============================] - 0s 11ms/step - loss: 1.9988 - accuracy: 0.8750\n"
          ]
        },
        {
          "output_type": "execute_result",
          "data": {
            "text/plain": [
              "<keras.src.callbacks.History at 0x7c8ecc385ff0>"
            ]
          },
          "metadata": {},
          "execution_count": 5
        }
      ],
      "source": [
        "# Train the model\n",
        "model.fit(padded_questions, np.array(range(len(questions))), epochs=30)"
      ]
    },
    {
      "cell_type": "code",
      "execution_count": null,
      "id": "e6a10616",
      "metadata": {
        "colab": {
          "base_uri": "https://localhost:8080/"
        },
        "id": "e6a10616",
        "outputId": "01fd9187-7cc8-49c6-9650-7a4a8b636e00"
      },
      "outputs": [
        {
          "output_type": "stream",
          "name": "stdout",
          "text": [
            "ask me what do you study\n",
            "1/1 [==============================] - 0s 81ms/step\n",
            "I am studying artificial intelligence\n",
            "ask me What is your name\n",
            "1/1 [==============================] - 0s 17ms/step\n",
            "my name is abdullah\n",
            "ask me thanks\n",
            "your welcome\n"
          ]
        }
      ],
      "source": [
        "# Define the chatbot interface\n",
        "def chatbot():\n",
        "    while True:\n",
        "        user_input = input(\"ask me \")\n",
        "        if user_input=='thanks':\n",
        "            print ('your welcome')\n",
        "            break\n",
        "        else:\n",
        "            user_sequence = tokenizer.texts_to_sequences([user_input])\n",
        "            padded_user_sequence = tf.keras.preprocessing.sequence.pad_sequences(user_sequence, maxlen=max_length, padding='post')\n",
        "            prediction = np.argmax(model.predict(padded_user_sequence))\n",
        "            print(answers[prediction])\n",
        "\n",
        "# Run the chatbot\n",
        "chatbot()"
      ]
    },
    {
      "cell_type": "code",
      "source": [],
      "metadata": {
        "id": "CEznvpK0aWYc"
      },
      "id": "CEznvpK0aWYc",
      "execution_count": null,
      "outputs": []
    }
  ],
  "metadata": {
    "kernelspec": {
      "display_name": "Python 3",
      "name": "python3"
    },
    "language_info": {
      "codemirror_mode": {
        "name": "ipython",
        "version": 3
      },
      "file_extension": ".py",
      "mimetype": "text/x-python",
      "name": "python",
      "nbconvert_exporter": "python",
      "pygments_lexer": "ipython3",
      "version": "3.9.16"
    },
    "colab": {
      "provenance": [],
      "gpuType": "T4"
    },
    "accelerator": "GPU"
  },
  "nbformat": 4,
  "nbformat_minor": 5
}